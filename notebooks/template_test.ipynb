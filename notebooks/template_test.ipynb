{
 "cells": [
  {
   "cell_type": "code",
   "execution_count": null,
   "id": "f8922010",
   "metadata": {},
   "outputs": [],
   "source": [
    "PROJECT = 'vit_sweep'\n",
    "RUN = 'run_288'\n",
    "\n",
    "CONFIG = f'../../logs/{PROJECT}/{RUN}/config.json'\n",
    "MODEL_PATH = f\"../../logs/{PROJECT}/{RUN}/best.pth\""
   ]
  }
 ],
 "metadata": {
  "language_info": {
   "name": "python"
  }
 },
 "nbformat": 4,
 "nbformat_minor": 5
}
