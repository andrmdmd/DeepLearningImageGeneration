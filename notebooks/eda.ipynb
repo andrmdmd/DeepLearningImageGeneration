{
 "cells": [
  {
   "cell_type": "code",
   "id": "initial_id",
   "metadata": {
    "collapsed": true,
    "ExecuteTime": {
     "end_time": "2025-04-15T11:51:56.410029Z",
     "start_time": "2025-04-15T11:51:56.395330Z"
    }
   },
   "source": [
    "import json\n",
    "from collections import Counter\n",
    "\n",
    "from dataset.dataset import SpeechCommandsDataset\n",
    "\n",
    "with open('./test/config.json') as f:\n",
    "    cfg = json.load(f)\n",
    "\n",
    "class Config:\n",
    "    def __init__(self, dictionary):\n",
    "        for k, v in dictionary.items():\n",
    "            if isinstance(v, dict):\n",
    "                setattr(self, k, Config(v))\n",
    "            else:\n",
    "                setattr(self, k, v)\n",
    "\n",
    "cfg = Config(cfg)"
   ],
   "outputs": [],
   "execution_count": 4
  },
  {
   "metadata": {
    "ExecuteTime": {
     "end_time": "2025-04-15T11:52:32.702806Z",
     "start_time": "2025-04-15T11:52:25.406274Z"
    }
   },
   "cell_type": "code",
   "source": [
    "train_dataset = SpeechCommandsDataset(\n",
    "    root_dir='../data',\n",
    "    cfg=cfg,\n",
    "    mode='training'\n",
    ")\n",
    "labels = [train_dataset[i][1] for i in range(len(train_dataset))]\n",
    "class_counts = Counter(labels)"
   ],
   "id": "df84de99ad367944",
   "outputs": [],
   "execution_count": 7
  },
  {
   "metadata": {
    "ExecuteTime": {
     "end_time": "2025-04-15T11:54:31.321341Z",
     "start_time": "2025-04-15T11:54:29.975089Z"
    }
   },
   "cell_type": "code",
   "source": [
    "sorted_class_counts = dict(sorted(class_counts.items()))\n",
    "\n",
    "import pandas as pd\n",
    "\n",
    "class_counts_df = pd.DataFrame(\n",
    "    list(sorted_class_counts.items()),\n",
    "    columns=['Class', 'Count']\n",
    ")\n",
    "\n",
    "print(class_counts_df)"
   ],
   "id": "c3424447a889b157",
   "outputs": [
    {
     "name": "stdout",
     "output_type": "stream",
     "text": [
      "   Class  Count\n",
      "0      0   1853\n",
      "1      1   1860\n"
     ]
    }
   ],
   "execution_count": 10
  }
 ],
 "metadata": {
  "kernelspec": {
   "display_name": "Python 3",
   "language": "python",
   "name": "python3"
  },
  "language_info": {
   "codemirror_mode": {
    "name": "ipython",
    "version": 2
   },
   "file_extension": ".py",
   "mimetype": "text/x-python",
   "name": "python",
   "nbconvert_exporter": "python",
   "pygments_lexer": "ipython2",
   "version": "2.7.6"
  }
 },
 "nbformat": 4,
 "nbformat_minor": 5
}
