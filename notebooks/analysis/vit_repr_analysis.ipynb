{
 "cells": [
  {
   "cell_type": "code",
   "execution_count": null,
   "id": "initial_id",
   "metadata": {
    "ExecuteTime": {
     "end_time": "2025-04-26T15:06:31.184238Z",
     "start_time": "2025-04-26T15:06:31.170722Z"
    },
    "collapsed": true
   },
   "outputs": [
    {
     "data": {
      "image/png": "[encoded data removed]",
      "text/html": [
       "<div style=\"vertical-align: middle;\"><strong>Blues</strong> </div><div class=\"cmap\"><img alt=\"Blues colormap\" title=\"Blues\" style=\"border: 1px solid #555;\" src=\"data:image/png;base64,iVBORw0KGgoAAAANSUhEUgAAAgAAAABACAYAAABsv8+/AAAAFHRFWHRUaXRsZQBCbHVlcyBjb2xvcm1hcIbbCAEAAAAadEVYdERlc2NyaXB0aW9uAEJsdWVzIGNvbG9ybWFweISh5wAAADF0RVh0QXV0aG9yAE1hdHBsb3RsaWIgdjMuMTAuMSwgaHR0cHM6Ly9tYXRwbG90bGliLm9yZxYcXggAAAAzdEVYdFNvZnR3YXJlAE1hdHBsb3RsaWIgdjMuMTAuMSwgaHR0cHM6Ly9tYXRwbG90bGliLm9yZ7M4TfwAAAHYSURBVHic7dZBTsJAAEDR6v3v68KEurCUODgWArrwv7dp2ikznQLJf3l7X9dlWZb187Bsh2U77NfPZuP7XQ+OD8tNxy/zPTZ+6/7++/j4fk7blcv9633jk+vn89vHv3/O09Vzj+Oz/W3zj+f7/d/v7zy+rzvuc5jncP6D6+NzHN43/fzk+cb3M/n81fcxjl/t4+B3crTebL7p+7xtvqvfzcF+js8P9nV61jr3rfv4vF//eLPxW+971jy/td6ybv+Q/fp2vv/ATj/f9/Tzv1rn8/x1ew0AQIgAAIAgAQAAQQIAAIIEAAAECQAACBIAABAkAAAgSAAAQJAAAIAgAQAAQQIAAIIEAAAECQAACBIAABAkAAAgSAAAQJAAAIAgAQAAQQIAAIIEAAAECQAACBIAABAkAAAgSAAAQJAAAIAgAQAAQQIAAIIEAAAECQAACBIAABAkAAAgSAAAQJAAAIAgAQAAQQIAAIIEAAAECQAACBIAABAkAAAgSAAAQJAAAIAgAQAAQQIAAIIEAAAECQAACBIAABAkAAAgSAAAQJAAAIAgAQAAQQIAAIIEAAAECQAACBIAABAkAAAgSAAAQJAAAIAgAQAAQQIAAIIEAAAECQAACBIAABD0AXwnGECOwefUAAAAAElFTkSuQmCC\"></div><div style=\"vertical-align: middle; max-width: 514px; display: flex; justify-content: space-between;\"><div style=\"float: left;\"><div title=\"#f7fbffff\" style=\"display: inline-block; width: 1em; height: 1em; margin: 0; vertical-align: middle; border: 1px solid #555; background-color: #f7fbffff;\"></div> under</div><div style=\"margin: 0 auto; display: inline-block;\">bad <div title=\"#00000000\" style=\"display: inline-block; width: 1em; height: 1em; margin: 0; vertical-align: middle; border: 1px solid #555; background-color: #00000000;\"></div></div><div style=\"float: right;\">over <div title=\"#08306bff\" style=\"display: inline-block; width: 1em; height: 1em; margin: 0; vertical-align: middle; border: 1px solid #555; background-color: #08306bff;\"></div></div></div>"
      ],
      "text/plain": [
       "<matplotlib.colors.LinearSegmentedColormap at 0x2b19c771990>"
      ]
     },
     "execution_count": 8,
     "metadata": {},
     "output_type": "execute_result"
    }
   ],
   "source": [
    "import sys\n",
    "import os\n",
    "import json\n",
    "import pandas as pd\n",
    "import numpy as np\n",
    "import matplotlib.pyplot as plt\n",
    "import seaborn as sns\n",
    "from glob import glob\n",
    "from IPython.display import display, Markdown\n",
    "\n",
    "sys.path.append(os.path.abspath('../../'))\n",
    "sns.color_palette(\"Blues\", as_cmap=True)"
   ]
  },
  {
   "cell_type": "code",
   "execution_count": null,
   "id": "dcad2db3870e0781",
   "metadata": {
    "ExecuteTime": {
     "end_time": "2025-04-26T15:06:31.214236Z",
     "start_time": "2025-04-26T15:06:31.197236Z"
    }
   },
   "outputs": [
    {
     "name": "stdout",
     "output_type": "stream",
     "text": [
      "Found 16 runs.\n"
     ]
    }
   ],
   "source": [
    "# Check if the folder exists\n",
    "log_dir = os.path.join(\"..\", \"..\", \"logs\", \"vit_representations_fixed\")\n",
    "if not os.path.exists(log_dir):\n",
    "    print(f\"Folder '{log_dir}' does not exist.\")\n",
    "else:\n",
    "    run_dirs = sorted(glob(os.path.join(log_dir, 'run_*')),\n",
    "                      key=lambda x: int(os.path.basename(x).split('_')[1]))\n",
    "    print(f\"Found {len(run_dirs)} runs.\")"
   ]
  },
  {
   "cell_type": "code",
   "execution_count": null,
   "id": "9137b79849df5b5b",
   "metadata": {
    "ExecuteTime": {
     "end_time": "2025-04-26T15:06:31.278382Z",
     "start_time": "2025-04-26T15:06:31.232240Z"
    }
   },
   "outputs": [
    {
     "name": "stdout",
     "output_type": "stream",
     "text": [
      "\n",
      "Statistical Summary of Max Validation Accuracies:\n",
      "count    15.000000\n",
      "mean      0.812702\n",
      "std       0.059392\n",
      "min       0.718665\n",
      "25%       0.754172\n",
      "50%       0.813737\n",
      "75%       0.881063\n",
      "max       0.885914\n",
      "Name: Max Validation Accuracy, dtype: float64\n"
     ]
    }
   ],
   "source": [
    "max_accuracies = []\n",
    "representations = []\n",
    "\n",
    "for run_dir in run_dirs[1:]:\n",
    "    val_csv = os.path.join(run_dir, 'validation_metrics.csv')\n",
    "    train_csv = os.path.join(run_dir, 'train_metrics.csv')\n",
    "    if os.path.exists(val_csv):\n",
    "        df = pd.read_csv(val_csv)\n",
    "        max_acc = df['acc/val'].max()\n",
    "        run_num = os.path.basename(run_dir).split('_')[1]\n",
    "        max_accuracies.append((int(run_num), max_acc))\n",
    "    if os.path.exists(train_csv):\n",
    "        df = pd.read_csv(train_csv)\n",
    "        representation = df['representation'][0]\n",
    "        representations.append(representation)\n",
    "\n",
    "results = pd.DataFrame(max_accuracies, columns=['Run', 'Max Validation Accuracy'])\n",
    "\n",
    "print(\"\\nStatistical Summary of Max Validation Accuracies:\")\n",
    "print(results['Max Validation Accuracy'].describe())"
   ]
  },
  {
   "cell_type": "code",
   "execution_count": null,
   "id": "ccdae0f8e188f9d4",
   "metadata": {
    "ExecuteTime": {
     "end_time": "2025-04-26T15:11:13.241261Z",
     "start_time": "2025-04-26T15:11:13.065102Z"
    }
   },
   "outputs": [
    {
     "name": "stdout",
     "output_type": "stream",
     "text": [
      "\n",
      "Grouped Statistics by Representation:\n",
      "                count      mean       std       min       25%       50%  \\\n",
      "Representation                                                            \n",
      "melspectrogram    5.0  0.811331  0.006443  0.802484  0.806752  0.813737   \n",
      "mfcc              5.0  0.882887  0.002286  0.879705  0.882421  0.882421   \n",
      "spectrogram       5.0  0.743888  0.014837  0.718665  0.745828  0.746605   \n",
      "\n",
      "                     75%       max  \n",
      "Representation                      \n",
      "melspectrogram  0.816453  0.817229  \n",
      "mfcc            0.883974  0.885914  \n",
      "spectrogram     0.750873  0.757470  \n"
     ]
    },
    {
     "name": "stderr",
     "output_type": "stream",
     "text": [
      "C:\\Users\\jdudz\\AppData\\Local\\Temp\\ipykernel_11392\\3718695273.py:12: FutureWarning: \n",
      "\n",
      "Passing `palette` without assigning `hue` is deprecated and will be removed in v0.14.0. Assign the `y` variable to `hue` and set `legend=False` for the same effect.\n",
      "\n",
      "  sns.boxplot(data=results, x='Max Validation Accuracy', y='Representation', palette='Blues', showfliers=False)\n"
     ]
    },
    {
     "data": {
      "image/png": "[encoded data removed]",
      "text/plain": [
       "<Figure size 1000x300 with 1 Axes>"
      ]
     },
     "metadata": {},
     "output_type": "display_data"
    }
   ],
   "source": [
    "results['Representation'] = representations\n",
    "\n",
    "grouped_stats = results.groupby('Representation')['Max Validation Accuracy'].describe()\n",
    "\n",
    "print(\"\\nGrouped Statistics by Representation:\")\n",
    "print(grouped_stats)\n",
    "plt.figure(figsize=(10, 3))\n",
    "sns.boxplot(data=results, x='Max Validation Accuracy', y='Representation', palette='Blues', showfliers=False)\n",
    "\n",
    "plt.ylabel('Representation')\n",
    "plt.xlabel('Max Validation Accuracy')\n",
    "plt.grid(alpha=0.3)\n",
    "plt.tight_layout()\n",
    "plt.savefig('charts/binary/vit_repr_analysis.png')\n",
    "plt.show()"
   ]
  }
 ],
 "metadata": {
  "kernelspec": {
   "display_name": "Python 3",
   "language": "python",
   "name": "python3"
  },
  "language_info": {
   "codemirror_mode": {
    "name": "ipython",
    "version": 2
   },
   "file_extension": ".py",
   "mimetype": "text/x-python",
   "name": "python",
   "nbconvert_exporter": "python",
   "pygments_lexer": "ipython2",
   "version": "2.7.6"
  }
 },
 "nbformat": 4,
 "nbformat_minor": 5
}
